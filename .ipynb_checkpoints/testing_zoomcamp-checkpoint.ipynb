{
 "cells": [
  {
   "cell_type": "code",
   "execution_count": 1,
   "id": "a56f4d10-87e0-47fe-931b-8545e35f6057",
   "metadata": {},
   "outputs": [
    {
     "name": "stdout",
     "output_type": "stream",
     "text": [
      "testeando Codespaces, de la guía de Zoomcamp 2023-24\n"
     ]
    }
   ],
   "source": [
    "print(\"testeando Codespaces, de la guía de Zoomcamp 2023-24\")"
   ]
  },
  {
   "cell_type": "code",
   "execution_count": null,
   "id": "7c12db99-0cb0-4ea3-8893-2741a8cb4309",
   "metadata": {},
   "outputs": [],
   "source": []
  }
 ],
 "metadata": {
  "kernelspec": {
   "display_name": "Python 3 (ipykernel)",
   "language": "python",
   "name": "python3"
  },
  "language_info": {
   "codemirror_mode": {
    "name": "ipython",
    "version": 3
   },
   "file_extension": ".py",
   "mimetype": "text/x-python",
   "name": "python",
   "nbconvert_exporter": "python",
   "pygments_lexer": "ipython3",
   "version": "3.10.13"
  }
 },
 "nbformat": 4,
 "nbformat_minor": 5
}
